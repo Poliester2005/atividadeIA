{
 "cells": [
  {
   "cell_type": "markdown",
   "metadata": {},
   "source": [
    "## Importando a Base\n",
    "\n",
    "Ao pegar a base de dados atribuída a nossa equipe, utilizamos a biblioteca <a href=\"https://pandas.pydata.org/\">Pandas</a> presente no Pacote de Bibloteca do <a href=\"https://python.org/\">Python</a> para visualizar como a base se encontrava antes de fazer toda a parte de Pré Processamento dos Dados, utilizando o código abaixo:\n"
   ]
  },
  {
   "cell_type": "code",
   "execution_count": null,
   "metadata": {},
   "outputs": [],
   "source": [
    "import pandas as pd\n",
    "df = pd.read_csv('datasets/clientes.csv')\n",
    "\n",
    "# Mudando a quantidade do máximos de linhas, colunas e tamanhos da base para ser mostrada.\n",
    "\n",
    "pd.set_option('display.max_rows', None)\n",
    "pd.set_option('display.max_columns', None)\n",
    "pd.set_option('display.width', None)\n",
    "\n",
    "print(df) # Mostrando a base"
   ]
  },
  {
   "cell_type": "markdown",
   "metadata": {},
   "source": [
    "E o resultado foi o seguinte:\n",
    "\n",
    "Com o resultado acima, concluímos que a base se encontrava ireegular para prosseguir, com diversos registros com valores ausentes, dados redundantes com duplicatas e dados incosistentes como idade negativa. Com isso, decidimos fazer toda a limpeza da base de dados utilizando métodos de limpeza dos dados."
   ]
  },
  {
   "cell_type": "markdown",
   "metadata": {},
   "source": [
    "## Melhoria da Base de Dados\n",
    "\n",
    "Após ter obtido esse resultado, tomamos a iniciativa de melhorias na base de dados de acordo com todos os problemas encontrados.\n",
    "\n",
    "### Correção de Valores Inconsistentes\n"
   ]
  }
 ],
 "metadata": {
  "language_info": {
   "name": "python"
  }
 },
 "nbformat": 4,
 "nbformat_minor": 2
}
